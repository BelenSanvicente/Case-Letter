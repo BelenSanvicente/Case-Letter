{
  "nbformat": 4,
  "nbformat_minor": 0,
  "metadata": {
    "colab": {
      "provenance": []
    },
    "kernelspec": {
      "name": "python3",
      "display_name": "Python 3"
    },
    "language_info": {
      "name": "python"
    }
  },
  "cells": [
    {
      "cell_type": "code",
      "execution_count": null,
      "metadata": {
        "id": "LnZCUEHnLxFZ"
      },
      "outputs": [],
      "source": [
        "def letras(string, tipo):\n",
        "    if tipo == 'minusculas':\n",
        "        x = string.lower()\n",
        "        print(x)\n",
        "    elif tipo == 'mayusculas':\n",
        "        x = string.capitalize()\n",
        "        print(x)\n",
        "    elif tipo == 'titulo ingles':\n",
        "        x = string.title()\n",
        "        print(x)\n",
        "     \n"
      ]
    },
    {
      "cell_type": "code",
      "source": [
        "a = 'GUÍAS DE PRÁCTICA CLÍNICA EN ENFERMEDADES NEOPLÁSICAS'\n",
        "letras(a,'minusculas')"
      ],
      "metadata": {
        "colab": {
          "base_uri": "https://localhost:8080/"
        },
        "id": "ReTUr1f2MKbD",
        "outputId": "24e4ad33-369d-46d0-be5e-cd62a44930eb"
      },
      "execution_count": null,
      "outputs": [
        {
          "output_type": "stream",
          "name": "stdout",
          "text": [
            "guías de práctica clínica en enfermedades neoplásicas\n"
          ]
        }
      ]
    },
    {
      "cell_type": "code",
      "source": [],
      "metadata": {
        "id": "OINpBfI1MWIa"
      },
      "execution_count": null,
      "outputs": []
    }
  ]
}